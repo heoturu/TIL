{
 "cells": [
  {
   "cell_type": "code",
   "execution_count": 2,
   "metadata": {},
   "outputs": [
    {
     "name": "stderr",
     "output_type": "stream",
     "text": [
      "/usr/local/lib/python3.6/site-packages/h5py/__init__.py:36: FutureWarning: Conversion of the second argument of issubdtype from `float` to `np.floating` is deprecated. In future, it will be treated as `np.float64 == np.dtype(float).type`.\n",
      "  from ._conv import register_converters as _register_converters\n"
     ]
    }
   ],
   "source": [
    "import tensorflow as tf\n",
    "from tensorflow import keras"
   ]
  },
  {
   "cell_type": "code",
   "execution_count": 3,
   "metadata": {},
   "outputs": [
    {
     "name": "stdout",
     "output_type": "stream",
     "text": [
      "Downloading data from https://s3.amazonaws.com/text-datasets/imdb.npz\n",
      "17465344/17464789 [==============================] - 14s 1us/step\n"
     ]
    }
   ],
   "source": [
    "imdb = keras.datasets.imdb\n",
    "\n",
    "(train_data, train_labels), (test_data, test_labels) = imdb.load_data(num_words=10000)"
   ]
  },
  {
   "cell_type": "markdown",
   "metadata": {},
   "source": [
    "**Note:**  \n",
    "* The argument ${\\color{blue}{num\\_words=10000}}$ keeps the top 10,000 most frequently occurring words in the training data."
   ]
  },
  {
   "cell_type": "markdown",
   "metadata": {},
   "source": [
    "## 1. Explore the data"
   ]
  },
  {
   "cell_type": "code",
   "execution_count": 4,
   "metadata": {},
   "outputs": [
    {
     "name": "stdout",
     "output_type": "stream",
     "text": [
      "Training entries: 25000, labels: 25000\n"
     ]
    }
   ],
   "source": [
    "print(\"Training entries: {}, labels: {}\".format(len(train_data), len(train_labels)))"
   ]
  },
  {
   "cell_type": "markdown",
   "metadata": {},
   "source": [
    "**Note:**  \n",
    "* Each label is an integer value of either 0 or 1, where 0 is a negative review and 1 is a positive review.  \n",
    "  (각 label은 정수값 0과 1을 가진다. 여기서 0은 부정적인 리뷰, 1은 긍정적인 리뷰이다.)"
   ]
  },
  {
   "cell_type": "code",
   "execution_count": 5,
   "metadata": {},
   "outputs": [
    {
     "name": "stdout",
     "output_type": "stream",
     "text": [
      "[1, 14, 22, 16, 43, 530, 973, 1622, 1385, 65, 458, 4468, 66, 3941, 4, 173, 36, 256, 5, 25, 100, 43, 838, 112, 50, 670, 2, 9, 35, 480, 284, 5, 150, 4, 172, 112, 167, 2, 336, 385, 39, 4, 172, 4536, 1111, 17, 546, 38, 13, 447, 4, 192, 50, 16, 6, 147, 2025, 19, 14, 22, 4, 1920, 4613, 469, 4, 22, 71, 87, 12, 16, 43, 530, 38, 76, 15, 13, 1247, 4, 22, 17, 515, 17, 12, 16, 626, 18, 2, 5, 62, 386, 12, 8, 316, 8, 106, 5, 4, 2223, 5244, 16, 480, 66, 3785, 33, 4, 130, 12, 16, 38, 619, 5, 25, 124, 51, 36, 135, 48, 25, 1415, 33, 6, 22, 12, 215, 28, 77, 52, 5, 14, 407, 16, 82, 2, 8, 4, 107, 117, 5952, 15, 256, 4, 2, 7, 3766, 5, 723, 36, 71, 43, 530, 476, 26, 400, 317, 46, 7, 4, 2, 1029, 13, 104, 88, 4, 381, 15, 297, 98, 32, 2071, 56, 26, 141, 6, 194, 7486, 18, 4, 226, 22, 21, 134, 476, 26, 480, 5, 144, 30, 5535, 18, 51, 36, 28, 224, 92, 25, 104, 4, 226, 65, 16, 38, 1334, 88, 12, 16, 283, 5, 16, 4472, 113, 103, 32, 15, 16, 5345, 19, 178, 32]\n"
     ]
    }
   ],
   "source": [
    "print(train_data[0])"
   ]
  },
  {
   "cell_type": "markdown",
   "metadata": {},
   "source": [
    "**Note:**\n",
    "* The text of reviews have been converted to integers, where each integer represents a specific word in a dictionary  \n",
    "  (리뷰 내용들은 정수들로 변환되어 있다. 각각의 정수들은 (특별한) 사전 속의 특별한 단어를 뜻한다.)"
   ]
  },
  {
   "cell_type": "code",
   "execution_count": 6,
   "metadata": {},
   "outputs": [
    {
     "data": {
      "text/plain": [
       "(218, 189)"
      ]
     },
     "execution_count": 6,
     "metadata": {},
     "output_type": "execute_result"
    }
   ],
   "source": [
    "len(train_data[0]), len(train_data[1])"
   ]
  },
  {
   "cell_type": "markdown",
   "metadata": {},
   "source": [
    "**Important:**  \n",
    "* Movie reviews may be different lengths. The above code shows the number of words in the first and second reviews. Since inputs to a neural network must be the same length, we'll need to resolve this later.  \n",
    "  (리뷰들은 길이이가 다를 것이다. 신경망에 들어가는 input 데이터는 같은 길이를 가지고 있어야 한다.)"
   ]
  },
  {
   "cell_type": "markdown",
   "metadata": {},
   "source": [
    "### Convert the integers back to words"
   ]
  },
  {
   "cell_type": "code",
   "execution_count": 7,
   "metadata": {},
   "outputs": [
    {
     "name": "stdout",
     "output_type": "stream",
     "text": [
      "Downloading data from https://s3.amazonaws.com/text-datasets/imdb_word_index.json\n",
      "1646592/1641221 [==============================] - 6s 3us/step\n"
     ]
    }
   ],
   "source": [
    "# A dictionary mapping words to an integer index\n",
    "word_index = imdb.get_word_index()\n",
    "\n",
    "# The first indices are reserved\n",
    "word_index = {k:(v+3) for k,v in word_index.items()} \n",
    "word_index[\"<PAD>\"] = 0\n",
    "word_index[\"<START>\"] = 1\n",
    "word_index[\"<UNK>\"] = 2  # unknown\n",
    "word_index[\"<UNUSED>\"] = 3\n",
    "\n",
    "reverse_word_index = dict([(value, key) for (key, value) in word_index.items()])\n",
    "\n",
    "def decode_review(text):\n",
    "    return ' '.join([reverse_word_index.get(i, '?') for i in text])"
   ]
  },
  {
   "cell_type": "code",
   "execution_count": 8,
   "metadata": {},
   "outputs": [
    {
     "data": {
      "text/plain": [
       "\"<START> this film was just brilliant casting location scenery story direction everyone's really suited the part they played and you could just imagine being there robert <UNK> is an amazing actor and now the same being director <UNK> father came from the same scottish island as myself so i loved the fact there was a real connection with this film the witty remarks throughout the film were great it was just brilliant so much that i bought the film as soon as it was released for <UNK> and would recommend it to everyone to watch and the fly fishing was amazing really cried at the end it was so sad and you know what they say if you cry at a film it must have been good and this definitely was also <UNK> to the two little boy's that played the <UNK> of norman and paul they were just brilliant children are often left out of the <UNK> list i think because the stars that play them all grown up are such a big profile for the whole film but these children are amazing and should be praised for what they have done don't you think the whole story was so lovely because it was true and was someone's life after all that was shared with us all\""
      ]
     },
     "execution_count": 8,
     "metadata": {},
     "output_type": "execute_result"
    }
   ],
   "source": [
    "decode_review(train_data[0])"
   ]
  },
  {
   "cell_type": "markdown",
   "metadata": {},
   "source": [
    "## 2. Prepare the data"
   ]
  },
  {
   "cell_type": "markdown",
   "metadata": {},
   "source": [
    "The reviews must be converted to tensors before fed into the neural network.   \n",
    "\n",
    "This conversion can be done a couple ways:\n",
    "    1. One-Hot Encode  \n",
    "       This approach is memory intensive, requiring a num_word * num_reviews size matrix\n",
    "    \n",
    "    2. Pad Sequences\n",
    "       all reviews have the same length, then create an integer tensor of shape num_reviews * max_length."
   ]
  },
  {
   "cell_type": "code",
   "execution_count": 9,
   "metadata": {},
   "outputs": [],
   "source": [
    "train_data = keras.preprocessing.sequence.pad_sequences(train_data, value=word_index[\"<PAD>\"], \n",
    "                                                        padding='post', maxlen=256)\n",
    "\n",
    "test_data = keras.preprocessing.sequence.pad_sequences(test_data, value=word_index[\"<PAD>\"], \n",
    "                                                        padding='post', maxlen=256)"
   ]
  },
  {
   "cell_type": "code",
   "execution_count": 10,
   "metadata": {},
   "outputs": [
    {
     "data": {
      "text/plain": [
       "(256, 256)"
      ]
     },
     "execution_count": 10,
     "metadata": {},
     "output_type": "execute_result"
    }
   ],
   "source": [
    "len(train_data[0]), len(test_data[0])"
   ]
  },
  {
   "cell_type": "code",
   "execution_count": 11,
   "metadata": {},
   "outputs": [
    {
     "name": "stdout",
     "output_type": "stream",
     "text": [
      "[   1   14   22   16   43  530  973 1622 1385   65  458 4468   66 3941\n",
      "    4  173   36  256    5   25  100   43  838  112   50  670    2    9\n",
      "   35  480  284    5  150    4  172  112  167    2  336  385   39    4\n",
      "  172 4536 1111   17  546   38   13  447    4  192   50   16    6  147\n",
      " 2025   19   14   22    4 1920 4613  469    4   22   71   87   12   16\n",
      "   43  530   38   76   15   13 1247    4   22   17  515   17   12   16\n",
      "  626   18    2    5   62  386   12    8  316    8  106    5    4 2223\n",
      " 5244   16  480   66 3785   33    4  130   12   16   38  619    5   25\n",
      "  124   51   36  135   48   25 1415   33    6   22   12  215   28   77\n",
      "   52    5   14  407   16   82    2    8    4  107  117 5952   15  256\n",
      "    4    2    7 3766    5  723   36   71   43  530  476   26  400  317\n",
      "   46    7    4    2 1029   13  104   88    4  381   15  297   98   32\n",
      " 2071   56   26  141    6  194 7486   18    4  226   22   21  134  476\n",
      "   26  480    5  144   30 5535   18   51   36   28  224   92   25  104\n",
      "    4  226   65   16   38 1334   88   12   16  283    5   16 4472  113\n",
      "  103   32   15   16 5345   19  178   32    0    0    0    0    0    0\n",
      "    0    0    0    0    0    0    0    0    0    0    0    0    0    0\n",
      "    0    0    0    0    0    0    0    0    0    0    0    0    0    0\n",
      "    0    0    0    0]\n"
     ]
    }
   ],
   "source": [
    "print(train_data[0])"
   ]
  },
  {
   "cell_type": "markdown",
   "metadata": {},
   "source": [
    "**Observe:**\n",
    "* train_data[0]의 원래 길이는 218이였는데, 256으로 길이를 같게 하면서 나머지는 0으로 덧됨"
   ]
  },
  {
   "cell_type": "markdown",
   "metadata": {},
   "source": [
    "## Build the model"
   ]
  },
  {
   "cell_type": "markdown",
   "metadata": {},
   "source": [
    "he neural network is created by stacking layers—this requires two main architectural decisions:\n",
    "* How many layers to use in the model?\n",
    "* How many hidden units to use for each layer?"
   ]
  },
  {
   "cell_type": "code",
   "execution_count": 12,
   "metadata": {},
   "outputs": [
    {
     "name": "stdout",
     "output_type": "stream",
     "text": [
      "_________________________________________________________________\n",
      "Layer (type)                 Output Shape              Param #   \n",
      "=================================================================\n",
      "embedding_1 (Embedding)      (None, None, 16)          160000    \n",
      "_________________________________________________________________\n",
      "global_average_pooling1d_1 ( (None, 16)                0         \n",
      "_________________________________________________________________\n",
      "dense_1 (Dense)              (None, 16)                272       \n",
      "_________________________________________________________________\n",
      "dense_2 (Dense)              (None, 1)                 17        \n",
      "=================================================================\n",
      "Total params: 160,289\n",
      "Trainable params: 160,289\n",
      "Non-trainable params: 0\n",
      "_________________________________________________________________\n"
     ]
    }
   ],
   "source": [
    "# input shape is the vocabulary count used for the moview reviews(10,000 words)\n",
    "vocab_size = 10000\n",
    "\n",
    "model = keras.Sequential()\n",
    "model.add(keras.layers.Embedding(vocab_size, 16))\n",
    "model.add(keras.layers.GlobalAveragePooling1D())\n",
    "model.add(keras.layers.Dense(16, activation=tf.nn.relu))\n",
    "model.add(keras.layers.Dense(1, activation=tf.nn.sigmoid))\n",
    "\n",
    "model.summary()"
   ]
  },
  {
   "cell_type": "markdown",
   "metadata": {},
   "source": [
    "The Layer\n",
    "\n",
    "1. Embedding layer.  \n",
    "  This layer takes the integer-encoded vocabulary and looks up the embedding vector for each word-index. These vectors are learned as the model trains. The vectors add a dimension to the output array. The resulting dimensions are: (batch, sequence, embedding).\n",
    "\n",
    "2. GlobalAveragePooling1D layer   \n",
    "  a fixed-length output vector for each example by averaging over the sequence dimension. This allows the model can handle input of variable length, in the simplest way possible.\n",
    "\n",
    "3. This fixed-length output vector is piped through a fully-connected (Dense) layer with 16 hidden units.\n",
    "\n",
    "4. The last layer is densely connected with a single output node. Using the sigmoid activation function, this value is a float between 0 and 1, representing a probabilty, or confidence level."
   ]
  },
  {
   "cell_type": "markdown",
   "metadata": {},
   "source": [
    "Hidden Units\n",
    "\n",
    "The number of outputs (units, nodes , or neurons) is the dimension of the representational space for the layer. In other words, the amount of freedom the network is allowed when learning an internal representation."
   ]
  },
  {
   "cell_type": "markdown",
   "metadata": {},
   "source": [
    "## 3. Compile the model"
   ]
  },
  {
   "cell_type": "markdown",
   "metadata": {},
   "source": [
    "Loss Function\n",
    "\n",
    "binary_crossentropy is better for dealing with out probabilities  \n",
    "it measures the \"distance\" between probability distributions, or in our case, between the ground-truth distribution and the predictions."
   ]
  },
  {
   "cell_type": "code",
   "execution_count": 14,
   "metadata": {},
   "outputs": [],
   "source": [
    "model.compile(optimizer=tf.train.AdamOptimizer(),\n",
    "             loss='binary_crossentropy',\n",
    "             metrics=['accuracy'])"
   ]
  },
  {
   "cell_type": "markdown",
   "metadata": {},
   "source": [
    "## 4. Train the model"
   ]
  },
  {
   "cell_type": "markdown",
   "metadata": {},
   "source": [
    "### split a validation set"
   ]
  },
  {
   "cell_type": "code",
   "execution_count": 15,
   "metadata": {},
   "outputs": [],
   "source": [
    "x_val = train_data[:10000]\n",
    "partial_x_train = train_data[10000:]\n",
    "\n",
    "y_val = train_labels[:10000]\n",
    "partial_y_train = train_labels[10000:]"
   ]
  },
  {
   "cell_type": "code",
   "execution_count": 16,
   "metadata": {},
   "outputs": [
    {
     "name": "stdout",
     "output_type": "stream",
     "text": [
      "Train on 15000 samples, validate on 10000 samples\n",
      "Epoch 1/40\n",
      "15000/15000 [==============================] - 1s 46us/step - loss: 0.6925 - acc: 0.5199 - val_loss: 0.6907 - val_acc: 0.5504\n",
      "Epoch 2/40\n",
      "15000/15000 [==============================] - 0s 27us/step - loss: 0.6888 - acc: 0.5645 - val_loss: 0.6875 - val_acc: 0.6042\n",
      "Epoch 3/40\n",
      "15000/15000 [==============================] - 0s 28us/step - loss: 0.6849 - acc: 0.6154 - val_loss: 0.6840 - val_acc: 0.6435\n",
      "Epoch 4/40\n",
      "15000/15000 [==============================] - 0s 28us/step - loss: 0.6800 - acc: 0.6640 - val_loss: 0.6803 - val_acc: 0.5630\n",
      "Epoch 5/40\n",
      "15000/15000 [==============================] - 0s 27us/step - loss: 0.6738 - acc: 0.6944 - val_loss: 0.6722 - val_acc: 0.7079\n",
      "Epoch 6/40\n",
      "15000/15000 [==============================] - 0s 27us/step - loss: 0.6651 - acc: 0.7314 - val_loss: 0.6629 - val_acc: 0.7186\n",
      "Epoch 7/40\n",
      "15000/15000 [==============================] - 0s 27us/step - loss: 0.6531 - acc: 0.7487 - val_loss: 0.6506 - val_acc: 0.7406\n",
      "Epoch 8/40\n",
      "15000/15000 [==============================] - 0s 27us/step - loss: 0.6374 - acc: 0.7603 - val_loss: 0.6349 - val_acc: 0.7484\n",
      "Epoch 9/40\n",
      "15000/15000 [==============================] - 0s 28us/step - loss: 0.6184 - acc: 0.7657 - val_loss: 0.6153 - val_acc: 0.7562\n",
      "Epoch 10/40\n",
      "15000/15000 [==============================] - 0s 28us/step - loss: 0.5952 - acc: 0.7817 - val_loss: 0.5931 - val_acc: 0.7715\n",
      "Epoch 11/40\n",
      "15000/15000 [==============================] - 0s 27us/step - loss: 0.5697 - acc: 0.7865 - val_loss: 0.5719 - val_acc: 0.7712\n",
      "Epoch 12/40\n",
      "15000/15000 [==============================] - 0s 27us/step - loss: 0.5429 - acc: 0.8020 - val_loss: 0.5440 - val_acc: 0.7930\n",
      "Epoch 13/40\n",
      "15000/15000 [==============================] - 0s 28us/step - loss: 0.5140 - acc: 0.8185 - val_loss: 0.5194 - val_acc: 0.8051\n",
      "Epoch 14/40\n",
      "15000/15000 [==============================] - 0s 28us/step - loss: 0.4866 - acc: 0.8311 - val_loss: 0.4951 - val_acc: 0.8169\n",
      "Epoch 15/40\n",
      "15000/15000 [==============================] - 0s 28us/step - loss: 0.4599 - acc: 0.8398 - val_loss: 0.4715 - val_acc: 0.8202\n",
      "Epoch 16/40\n",
      "15000/15000 [==============================] - 0s 27us/step - loss: 0.4353 - acc: 0.8487 - val_loss: 0.4499 - val_acc: 0.8316\n",
      "Epoch 17/40\n",
      "15000/15000 [==============================] - 0s 28us/step - loss: 0.4112 - acc: 0.8609 - val_loss: 0.4307 - val_acc: 0.8399\n",
      "Epoch 18/40\n",
      "15000/15000 [==============================] - 0s 28us/step - loss: 0.3900 - acc: 0.8674 - val_loss: 0.4130 - val_acc: 0.8454\n",
      "Epoch 19/40\n",
      "15000/15000 [==============================] - 0s 28us/step - loss: 0.3709 - acc: 0.8747 - val_loss: 0.3977 - val_acc: 0.8516\n",
      "Epoch 20/40\n",
      "15000/15000 [==============================] - 0s 28us/step - loss: 0.3536 - acc: 0.8794 - val_loss: 0.3842 - val_acc: 0.8549\n",
      "Epoch 21/40\n",
      "15000/15000 [==============================] - 0s 28us/step - loss: 0.3380 - acc: 0.8826 - val_loss: 0.3723 - val_acc: 0.8581\n",
      "Epoch 22/40\n",
      "15000/15000 [==============================] - 0s 28us/step - loss: 0.3239 - acc: 0.8870 - val_loss: 0.3620 - val_acc: 0.8609\n",
      "Epoch 23/40\n",
      "15000/15000 [==============================] - 0s 29us/step - loss: 0.3114 - acc: 0.8916 - val_loss: 0.3533 - val_acc: 0.8626\n",
      "Epoch 24/40\n",
      "15000/15000 [==============================] - 0s 28us/step - loss: 0.2995 - acc: 0.8960 - val_loss: 0.3449 - val_acc: 0.8678\n",
      "Epoch 25/40\n",
      "15000/15000 [==============================] - 0s 28us/step - loss: 0.2889 - acc: 0.8996 - val_loss: 0.3378 - val_acc: 0.8701\n",
      "Epoch 26/40\n",
      "15000/15000 [==============================] - 0s 28us/step - loss: 0.2790 - acc: 0.9021 - val_loss: 0.3318 - val_acc: 0.8715\n",
      "Epoch 27/40\n",
      "15000/15000 [==============================] - 0s 29us/step - loss: 0.2702 - acc: 0.9037 - val_loss: 0.3262 - val_acc: 0.8721\n",
      "Epoch 28/40\n",
      "15000/15000 [==============================] - 0s 29us/step - loss: 0.2614 - acc: 0.9077 - val_loss: 0.3209 - val_acc: 0.8740\n",
      "Epoch 29/40\n",
      "15000/15000 [==============================] - 0s 29us/step - loss: 0.2535 - acc: 0.9088 - val_loss: 0.3169 - val_acc: 0.8754\n",
      "Epoch 30/40\n",
      "15000/15000 [==============================] - 0s 28us/step - loss: 0.2469 - acc: 0.9123 - val_loss: 0.3127 - val_acc: 0.8758\n",
      "Epoch 31/40\n",
      "15000/15000 [==============================] - 0s 28us/step - loss: 0.2390 - acc: 0.9164 - val_loss: 0.3094 - val_acc: 0.8766\n",
      "Epoch 32/40\n",
      "15000/15000 [==============================] - 0s 28us/step - loss: 0.2329 - acc: 0.9179 - val_loss: 0.3063 - val_acc: 0.8788\n",
      "Epoch 33/40\n",
      "15000/15000 [==============================] - 0s 28us/step - loss: 0.2259 - acc: 0.9215 - val_loss: 0.3035 - val_acc: 0.8796\n",
      "Epoch 34/40\n",
      "15000/15000 [==============================] - 0s 28us/step - loss: 0.2200 - acc: 0.9237 - val_loss: 0.3013 - val_acc: 0.8799\n",
      "Epoch 35/40\n",
      "15000/15000 [==============================] - 0s 30us/step - loss: 0.2148 - acc: 0.9234 - val_loss: 0.2988 - val_acc: 0.8802\n",
      "Epoch 36/40\n",
      "15000/15000 [==============================] - 0s 28us/step - loss: 0.2087 - acc: 0.9267 - val_loss: 0.2970 - val_acc: 0.8802\n",
      "Epoch 37/40\n",
      "15000/15000 [==============================] - 0s 29us/step - loss: 0.2035 - acc: 0.9288 - val_loss: 0.2953 - val_acc: 0.8816\n",
      "Epoch 38/40\n",
      "15000/15000 [==============================] - 0s 30us/step - loss: 0.1986 - acc: 0.9303 - val_loss: 0.2936 - val_acc: 0.8814\n",
      "Epoch 39/40\n",
      "15000/15000 [==============================] - 0s 29us/step - loss: 0.1934 - acc: 0.9334 - val_loss: 0.2922 - val_acc: 0.8822\n",
      "Epoch 40/40\n",
      "15000/15000 [==============================] - 0s 29us/step - loss: 0.1887 - acc: 0.9360 - val_loss: 0.2910 - val_acc: 0.8828\n"
     ]
    }
   ],
   "source": [
    "hist = model.fit(partial_x_train, partial_y_train,\n",
    "                epochs=40, batch_size=512,\n",
    "                validation_data=(x_val, y_val),\n",
    "                verbose=1)"
   ]
  },
  {
   "cell_type": "markdown",
   "metadata": {},
   "source": [
    "## 5. Evaluate the model"
   ]
  },
  {
   "cell_type": "code",
   "execution_count": 17,
   "metadata": {},
   "outputs": [
    {
     "name": "stdout",
     "output_type": "stream",
     "text": [
      "25000/25000 [==============================] - 1s 23us/step\n",
      "[0.3048398605728149, 0.87472]\n"
     ]
    }
   ],
   "source": [
    "results = model.evaluate(test_data, test_labels)\n",
    "\n",
    "print(results)"
   ]
  },
  {
   "cell_type": "code",
   "execution_count": 20,
   "metadata": {},
   "outputs": [
    {
     "data": {
      "image/png": "[encoded data removed]",
      "text/plain": [
       "<matplotlib.figure.Figure at 0x12ad5efd0>"
      ]
     },
     "metadata": {},
     "output_type": "display_data"
    }
   ],
   "source": [
    "plt.plot(hist.history['acc'], 'b-', label=\"training\")\n",
    "plt.plot(hist.history['val_acc'], 'r:', label=\"validation\")\n",
    "plt.title('Training and validation accuracy')\n",
    "plt.xlabel('Epochs')\n",
    "plt.ylabel('Loss')\n",
    "plt.legend()\n",
    "plt.show()"
   ]
  },
  {
   "cell_type": "markdown",
   "metadata": {},
   "source": [
    "**Note:**\n",
    "* trainig loss decreases and accuracy increases with each epoch.\n",
    "  This is expected when using a gradient descent optimization—it should minimize the desired quantity on every iteration. \n",
    "  \n",
    "  \n",
    "* This isn't the case for the validation  \n",
    "  they seem to peak after about twenty epochs.\n",
    "  \n",
    "  \n",
    "* This is an example of overfitting (do not generalize to test data)\n",
    "\n",
    "* For this particular case, we could prevent overfitting by simply stopping the training after twenty or so epochs.   \n",
    "  (how to do this automatically with a callback.)"
   ]
  },
  {
   "cell_type": "code",
   "execution_count": null,
   "metadata": {},
   "outputs": [],
   "source": []
  },
  {
   "cell_type": "code",
   "execution_count": null,
   "metadata": {},
   "outputs": [],
   "source": [
    "acc = history.history['acc']\n",
    "val_acc = history.history['val_acc']\n",
    "loss = history.history['loss']\n",
    "val_loss = history.history['val_loss']\n",
    "\n",
    "epochs = range(1, len(acc) + 1)\n",
    "\n",
    "# \"bo\" is for \"blue dot\"\n",
    "plt.plot(epochs, loss, 'bo', label='Training loss')\n",
    "# b is for \"solid blue line\"\n",
    "plt.plot(epochs, val_loss, 'b', label='Validation loss')\n",
    "plt.title('Training and validation loss')\n",
    "plt.xlabel('Epochs')\n",
    "plt.ylabel('Loss')\n",
    "plt.legend()\n",
    "\n",
    "plt.show()"
   ]
  },
  {
   "cell_type": "code",
   "execution_count": null,
   "metadata": {},
   "outputs": [],
   "source": [
    "plt.clf()   # clear figure\n",
    "acc_values = history_dict['acc']\n",
    "val_acc_values = history_dict['val_acc']\n",
    "\n",
    "plt.plot(epochs, acc, 'bo', label='Training acc')\n",
    "plt.plot(epochs, val_acc, 'b', label='Validation acc')\n",
    "plt.title('Training and validation accuracy')\n",
    "plt.xlabel('Epochs')\n",
    "plt.ylabel('Loss')\n",
    "plt.legend()\n",
    "\n",
    "plt.show()"
   ]
  }
 ],
 "metadata": {
  "kernelspec": {
   "display_name": "Python 3",
   "language": "python",
   "name": "python3"
  },
  "language_info": {
   "codemirror_mode": {
    "name": "ipython",
    "version": 3
   },
   "file_extension": ".py",
   "mimetype": "text/x-python",
   "name": "python",
   "nbconvert_exporter": "python",
   "pygments_lexer": "ipython3",
   "version": "3.6.4"
  }
 },
 "nbformat": 4,
 "nbformat_minor": 2
}
